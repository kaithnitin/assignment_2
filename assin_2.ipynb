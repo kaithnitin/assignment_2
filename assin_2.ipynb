{
 "cells": [
  {
   "cell_type": "markdown",
   "id": "389e814b-158d-43dc-ac41-b71d0b210e65",
   "metadata": {},
   "source": [
    "# Assignment 2\n",
    "\n",
    "\n"
   ]
  },
  {
   "cell_type": "code",
   "execution_count": null,
   "id": "86a72ba3-1724-4878-8fc6-e893ccfa9126",
   "metadata": {},
   "outputs": [],
   "source": [
    "# Q1. Write a program to accept percentage from the user and display the grade according to the following \n",
    "# criteria: \n",
    "#    Marks \n",
    "#     >90             A \n",
    "#    >80 and <=90     B \n",
    "#    >=60 and <=80    C \n",
    "#     below 60        D "
   ]
  },
  {
   "cell_type": "code",
   "execution_count": 14,
   "id": "a99d8cfc-0f89-4f89-8cc2-f5999788cbaa",
   "metadata": {},
   "outputs": [
    {
     "name": "stdout",
     "output_type": "stream",
     "text": [
      "total marks of each subject is '100'\n"
     ]
    },
    {
     "name": "stdin",
     "output_type": "stream",
     "text": [
      "marks obtained in hindi 89\n",
      "marks obtained in english 96\n",
      "marks obtained in math 79\n",
      "marks obtained in science 93\n",
      "marks obtained in history 87\n"
     ]
    },
    {
     "name": "stdout",
     "output_type": "stream",
     "text": [
      "sum of marks obtained in all the subjects =  444\n",
      "minimum passing %age is 33%\n",
      "you have scored 88.8 % - PASS grade B\n"
     ]
    }
   ],
   "source": [
    "print(\"total marks of each subject is '100'\")\n",
    "a=int(input(\"marks obtained in hindi\"))\n",
    "b=int(input(\"marks obtained in english\"))\n",
    "c=int(input(\"marks obtained in math\"))\n",
    "d=int(input(\"marks obtained in science\"))\n",
    "e=int(input(\"marks obtained in history\"))\n",
    "f=a+b+c+d+e\n",
    "g=(a+b+c+d+e)/5\n",
    "print(\"sum of marks obtained in all the subjects = \",f)\n",
    "print(\"minimum passing %age is 33%\")\n",
    "if g>90:\n",
    "    print(\"you have scored\",g,\"% - PASS grade A\")\n",
    "elif g>80 and g<=90:\n",
    "    print(\"you have scored\",g,\"% - PASS grade B\")\n",
    "elif g>=60 and g<=80:\n",
    "    print(\"you have scored\",g,\"% - PASS grade C\")\n",
    "elif g>=40 and g<=60:\n",
    "    print(\"you have scored\",g,\"% - PASS grade D\")\n",
    "else:\n",
    "    print(\"you have scored below minimum required %age \",g,\"% - FAILED grade E\")"
   ]
  },
  {
   "cell_type": "code",
   "execution_count": null,
   "id": "ec58ac9f-2488-4ec1-b47a-ef91b436d266",
   "metadata": {},
   "outputs": [],
   "source": [
    "## 2. Write a program to accept the cost price of a bike and display the road tax to be paid\n",
    "## according to the \n",
    "## following criteria: \n",
    "## Cost Price(in Rs)              Tax  \n",
    "##  >10000                        15%\n",
    "##  >5000 and <=10000             10%\n",
    "##  <5000                          5%"
   ]
  },
  {
   "cell_type": "code",
   "execution_count": 2,
   "id": "418e8f7f-ab62-4a26-b07d-9f561b5cf4b1",
   "metadata": {},
   "outputs": [
    {
     "name": "stdin",
     "output_type": "stream",
     "text": [
      "Cp of bike:  2455\n"
     ]
    },
    {
     "name": "stdout",
     "output_type": "stream",
     "text": [
      "Road tax is 5%\n",
      "Total Amount(Cp + tax) =  2577\n"
     ]
    }
   ],
   "source": [
    "a=int(input(\"Cp of bike: \"))\n",
    "if a >10000:\n",
    "    print(\"Road tax is 15%\\nTotal Amount = \",a*1.15)\n",
    "elif a>5000 and a<=10000:\n",
    "    print(\"Road tax is 10%\\nTotal Amount = \",a*1.1)\n",
    "else:\n",
    "    print(\"Road tax is 5%\\nTotal Amount(Cp + tax) = \",int(a*1.05))\n",
    "        "
   ]
  },
  {
   "cell_type": "code",
   "execution_count": null,
   "id": "f9568944-5caf-402f-893c-dc65d5f5a4e7",
   "metadata": {},
   "outputs": [],
   "source": [
    "## 3. Accept any city from the user and display monuments of that city.\n",
    "## City   -->   Monument\n",
    "## Delhi  -->   Red Fort \n",
    "## Agra   -->   Taj Mahal\n",
    "## Jaipur -->   Jal Mahal "
   ]
  },
  {
   "cell_type": "code",
   "execution_count": 11,
   "id": "a354361d-3902-4ba2-96c8-25d62bb66dc0",
   "metadata": {},
   "outputs": [
    {
     "name": "stdout",
     "output_type": "stream",
     "text": [
      " Delhi, Agra, Jaipur\n"
     ]
    },
    {
     "name": "stdin",
     "output_type": "stream",
     "text": [
      "Choose a city --> Jaipur\n"
     ]
    },
    {
     "name": "stdout",
     "output_type": "stream",
     "text": [
      "famous monument is 'Jal Mahal'\n"
     ]
    }
   ],
   "source": [
    "\n",
    "print(\" Delhi, Agra, Jaipur\")\n",
    "a=input(\"Choose a city -->\").lower()\n",
    "if a==\"delhi\":\n",
    "    print(\"famous monument is 'Red Fort'\")\n",
    "elif a==\"agra\":\n",
    "    print(\"famous monument is 'Taj Mahal'\")\n",
    "else:\n",
    "    print(\"famous monument is 'Jal Mahal'\")"
   ]
  },
  {
   "cell_type": "code",
   "execution_count": 19,
   "id": "d4a57979-4b1d-4bc7-adfd-07c77b034b0c",
   "metadata": {},
   "outputs": [
    {
     "name": "stdin",
     "output_type": "stream",
     "text": [
      "enter your name nitin\n"
     ]
    },
    {
     "data": {
      "text/plain": [
       "'NITIN'"
      ]
     },
     "execution_count": 19,
     "metadata": {},
     "output_type": "execute_result"
    }
   ],
   "source": [
    "# input(\"enter your name\").upper()"
   ]
  },
  {
   "cell_type": "code",
   "execution_count": null,
   "id": "961eebe7-6a32-4342-81f3-749397f27e20",
   "metadata": {},
   "outputs": [],
   "source": [
    "# Q5: Check how many times a given number can be divided by 3 before it is less than or equal to 10. "
   ]
  },
  {
   "cell_type": "code",
   "execution_count": null,
   "id": "5c5d485e-1f4c-4afb-9e69-64bbbae23b9b",
   "metadata": {},
   "outputs": [],
   "source": [
    "\n",
    "def divide_by_3(num):\n",
    "    count = 0\n",
    "    while num > 10:\n",
    "        num = num / 3\n",
    "        count += 1\n",
    "    return count\n",
    "\n",
    "number = int(input(\"Enter a number: \"))\n",
    "result = divide_by_3(number)\n",
    "print(\"The number can be divided by 3\", result, \"times before it is less than or equal to 10.\")"
   ]
  },
  {
   "cell_type": "raw",
   "id": "a2e5fcc7-f16d-4aeb-9343-c5f85b6ed5bc",
   "metadata": {},
   "source": [
    "Q5:  Why and When to Use while Loop in Python give a detailed description with example?\n",
    "\n",
    "Ans: The while loop in Python is used to repeatedly execute a block of code as long as a given condition is true. In other words, it allows you to execute a set of statements repeatedly until a certain condition is met.\n",
    "Here's the basic syntax of a while loop in Python:\n",
    "while condition:\n"
   ]
  },
  {
   "cell_type": "code",
   "execution_count": null,
   "id": "30c37d97-9822-460d-b245-373241c90530",
   "metadata": {},
   "outputs": [],
   "source": [
    "\"\"\"The condition is evaluated before each iteration of the loop, and if it's True, the code inside the loop is executed. Once the condition becomes False, the loop stops executing.\n",
    "\n",
    "Here's a simple example of using a while loop to print the numbers from 1 to 5:\"\"\"\n",
    "a=1\n",
    "while a!=5:\n",
    "    print(a)\n",
    "    a +=1\n",
    "else:\n",
    "    print(\"the end\")\n",
    "\"\"\"As you can see, the while loop keeps executing as long as the 'a' variable is less than\n",
    "or equal to 5. After each iteration, the 'a' variable is incremented by 1, until it becomes\n",
    "greater than 5, at which point the loop shows 'the end' as it is in else and then it stop executing.\n",
    "It's important to be careful when using while loops, as an infinite loop can occur if the condition\n",
    "is always true and there's no way to make it false inside the loop. To avoid this, make sure to \n",
    "include a mechanism to change the condition to false within the loop.\"\"\""
   ]
  },
  {
   "cell_type": "code",
   "execution_count": null,
   "id": "7185d406-f8b2-4ec5-a088-5f495dd3f737",
   "metadata": {},
   "outputs": [],
   "source": [
    "# Q6: Use nested while loop to print 3 different pattern."
   ]
  },
  {
   "cell_type": "code",
   "execution_count": 3,
   "id": "5d8203bd-fefa-418e-9061-fab24841143c",
   "metadata": {},
   "outputs": [
    {
     "name": "stdout",
     "output_type": "stream",
     "text": [
      "*\n",
      "**\n",
      "***\n",
      "****\n",
      "*****\n"
     ]
    }
   ],
   "source": [
    "# triangle\n",
    "n = 5\n",
    "i = 1\n",
    "while i <= n:\n",
    "    j = 1\n",
    "    while j <= i:\n",
    "        print(\"*\", end=\"\")\n",
    "        j = j + 1\n",
    "    print(\"\")\n",
    "    i = i + 1"
   ]
  },
  {
   "cell_type": "code",
   "execution_count": 4,
   "id": "aa9121c9-9476-43c3-9f35-847e76e46f59",
   "metadata": {},
   "outputs": [
    {
     "name": "stdout",
     "output_type": "stream",
     "text": [
      "*****\n",
      "****\n",
      "***\n",
      "**\n",
      "*\n"
     ]
    }
   ],
   "source": [
    "# inverted triangle\n",
    "n = 5\n",
    "i = n\n",
    "while i >= 1:\n",
    "    j = 1\n",
    "    while j <= i:\n",
    "        print(\"*\", end=\"\")\n",
    "        j = j + 1\n",
    "    print(\"\")\n",
    "    i = i - 1"
   ]
  },
  {
   "cell_type": "code",
   "execution_count": null,
   "id": "7f4fba6d-e79b-43cb-a47b-2854fcf775f9",
   "metadata": {},
   "outputs": [],
   "source": []
  },
  {
   "cell_type": "code",
   "execution_count": null,
   "id": "0739db34-9551-4299-9635-f77b75c0f183",
   "metadata": {},
   "outputs": [],
   "source": [
    "# Q7: Reverse a while loop to display numbers from 10 to 1."
   ]
  },
  {
   "cell_type": "code",
   "execution_count": null,
   "id": "7bc5540b-1683-42fd-9107-1dc9aca0d750",
   "metadata": {},
   "outputs": [],
   "source": [
    "a=10\n",
    "while a!=0: #we can also put condition = a>0 it will also work\n",
    "    print(a)\n",
    "    a-=1\n",
    "else:\n",
    "    print(\"we are done\")"
   ]
  },
  {
   "cell_type": "code",
   "execution_count": null,
   "id": "1a06ba17-6463-42ba-9b8e-9cfc575b7258",
   "metadata": {},
   "outputs": [],
   "source": []
  },
  {
   "cell_type": "code",
   "execution_count": null,
   "id": "d44999c2-14eb-4701-8e94-85e58b9a85b5",
   "metadata": {},
   "outputs": [],
   "source": []
  },
  {
   "cell_type": "code",
   "execution_count": null,
   "id": "97d4dc44-c288-4ebd-b7a3-5fafa0830afb",
   "metadata": {},
   "outputs": [],
   "source": []
  }
 ],
 "metadata": {
  "kernelspec": {
   "display_name": "Python 3 (ipykernel)",
   "language": "python",
   "name": "python3"
  },
  "language_info": {
   "codemirror_mode": {
    "name": "ipython",
    "version": 3
   },
   "file_extension": ".py",
   "mimetype": "text/x-python",
   "name": "python",
   "nbconvert_exporter": "python",
   "pygments_lexer": "ipython3",
   "version": "3.10.8"
  }
 },
 "nbformat": 4,
 "nbformat_minor": 5
}
